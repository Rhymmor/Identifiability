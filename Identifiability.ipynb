{
 "cells": [
  {
   "cell_type": "code",
   "execution_count": 1,
   "metadata": {
    "collapsed": true
   },
   "outputs": [],
   "source": [
    "import numpy as np\n",
    "from scipy.integrate import odeint\n",
    "import matplotlib.pyplot as plt"
   ]
  },
  {
   "cell_type": "code",
   "execution_count": 45,
   "metadata": {
    "collapsed": false
   },
   "outputs": [],
   "source": [
    "pluck = lambda dict, *args: (dict[arg] for arg in args)\n",
    "\n",
    "def peptide(funcs, t, params_dict):\n",
    "    cp1, cp2, x, y = funcs\n",
    "    k01, k21, k12, m, a, b, G, h = pluck(params_dict, 'k01', 'k21', 'k12', 'm', 'a', 'b', 'G', 'h')\n",
    "    \n",
    "    f1 = -(k01 + k21) * cp1 + k12 * cp2 + m * x\n",
    "    f2 = k21 * cp1 - k12 * cp2\n",
    "    f3 = -m * x + y\n",
    "    f4 = -a * (y - b * (G - h))\n",
    "    \n",
    "    dydt = [f1, f2, f3, f4]\n",
    "    return dydt\n",
    "\n",
    "def sens_value(sol, par, delta_x, delta_y):\n",
    "    if sol != 0 and delta_x != 0:\n",
    "        return par / sol * (delta_y) / (2 * delta_x)\n",
    "    else: \n",
    "        return float('Inf')\n",
    "\n",
    "def sensitivity(funcs, y0, t, params, delta):\n",
    "    sol = odeint(funcs, y0, t, args=(params,))\n",
    "    sens_list = {}\n",
    "    for key, value in params.iteritems():\n",
    "        params_delta_p = params.copy()\n",
    "        params_delta_m = params.copy()\n",
    "        params_delta_p[key] = value + delta\n",
    "        params_delta_m[key] = value - delta\n",
    "        \n",
    "        sol_delta_p = odeint(funcs, y0, t, args=(params_delta_p,))\n",
    "        sol_delta_m = odeint(funcs, y0, t, args=(params_delta_m,))\n",
    "        \n",
    "        sens_param = 0.0\n",
    "        for i in range(len(y0)):\n",
    "            def sens_sum(k):\n",
    "                return sens_value(sol[k][i], value, delta, sol_delta_p[k][i] - sol_delta_m[k][i]) ** 2      \n",
    "            sens_param += sum([sens_sum(k) for k in range(len(sol)) if sol[k][i] != 0])\n",
    "        \n",
    "        sens_list[key] = sens_param\n",
    "    return sens_list\n",
    "\n",
    "def plot(sol):\n",
    "    plt.plot(t, sol[:, 0], 'b', label='cp1(t)')\n",
    "    plt.plot(t, sol[:, 1], 'g', label='cp2(t)')\n",
    "    plt.plot(t, sol[:, 2], 'r', label='x(t)')\n",
    "    plt.plot(t, sol[:, 3], 'y', label='y(t)')\n",
    "    plt.legend(loc='best')\n",
    "    plt.xlabel('t')\n",
    "    plt.grid()\n",
    "    plt.show()"
   ]
  },
  {
   "cell_type": "code",
   "execution_count": 53,
   "metadata": {
    "collapsed": false
   },
   "outputs": [
    {
     "data": {
      "image/png": "[encoded data removed]",
      "text/plain": [
       "<matplotlib.figure.Figure at 0x8f8bb00>"
      ]
     },
     "metadata": {},
     "output_type": "display_data"
    },
    {
     "name": "stdout",
     "output_type": "stream",
     "text": [
      "Sensitivity of parameters:\n",
      "a = 2716.84712619\n",
      "k01 = 15.3613597795\n",
      "b = 3493.25972797\n",
      "G = 3865.74313634\n",
      "k12 = 4.65470448718\n",
      "h = 9.4338049202\n",
      "k21 = 902.704432998\n",
      "m = 1071.14558571\n"
     ]
    }
   ],
   "source": [
    "k01 = 0.064\n",
    "k21 = 0.054\n",
    "k12 = 0.056\n",
    "m = 0.57\n",
    "a = 0.065\n",
    "b = 11.32\n",
    "G = 100\n",
    "h = 4.94\n",
    "delta = 0.00001\n",
    "y0 = [0, 0, 10, 0]\n",
    "t = np.linspace(0, 10, 1001)\n",
    "\n",
    "params_dict = {\n",
    "    'k01': k01,\n",
    "    'k21': k21,\n",
    "    'k12': k12,\n",
    "    'm': m,\n",
    "    'a': a,\n",
    "    'b': b,\n",
    "    'G': G,\n",
    "    'h': h\n",
    "}\n",
    "\n",
    "sol = odeint(peptide, y0, t, args=(params_dict,))\n",
    "plot(sol)\n",
    "\n",
    "\n",
    "result = sensitivity(peptide, y0, t, params_dict, delta=0.0000001)\n",
    "print \"Sensitivity of parameters:\"\n",
    "for key,value in result.iteritems():\n",
    "    print key, \"=\", value"
   ]
  },
  {
   "cell_type": "code",
   "execution_count": null,
   "metadata": {
    "collapsed": true
   },
   "outputs": [],
   "source": []
  }
 ],
 "metadata": {
  "kernelspec": {
   "display_name": "Python 2",
   "language": "python",
   "name": "python2"
  },
  "language_info": {
   "codemirror_mode": {
    "name": "ipython",
    "version": 2
   },
   "file_extension": ".py",
   "mimetype": "text/x-python",
   "name": "python",
   "nbconvert_exporter": "python",
   "pygments_lexer": "ipython2",
   "version": "2.7.13"
  }
 },
 "nbformat": 4,
 "nbformat_minor": 2
}
